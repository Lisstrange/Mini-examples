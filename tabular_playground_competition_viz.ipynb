{
 "cells": [
  {
   "cell_type": "markdown",
   "metadata": {},
   "source": [
    "# Tabular Playground Competition\n",
    "https://www.kaggle.com/c/tabular-playground-series-jan-2021"
   ]
  },
  {
   "cell_type": "markdown",
   "metadata": {},
   "source": [
    "### Load dataset"
   ]
  },
  {
   "cell_type": "code",
   "execution_count": 2,
   "metadata": {},
   "outputs": [],
   "source": [
    "import numpy as np\n",
    "import pandas as pd\n",
    "from pathlib import Path\n",
    "import os"
   ]
  },
  {
   "cell_type": "code",
   "execution_count": 96,
   "metadata": {},
   "outputs": [],
   "source": [
    "import plotly.express as px\n",
    "import chart_studio.plotly as py\n",
    "import plotly.graph_objs as go\n",
    "import plotly.figure_factory as ff\n",
    "from plotly.subplots import make_subplots\n",
    "import plotly.io as pio\n",
    "\n",
    "# these two lines are what allow your code to show up in a notebook\n",
    "from plotly.offline import init_notebook_mode, iplot\n",
    "init_notebook_mode()"
   ]
  },
  {
   "cell_type": "code",
   "execution_count": 5,
   "metadata": {},
   "outputs": [],
   "source": [
    "path='/Users/irak/Documents/py_viz/tabular-playground-series-jan-2021/'\n",
    "for dirname, _, filenames in os.walk(path):\n",
    "    for filename in filenames:\n",
    "        print(os.path.join(dirname, filename))"
   ]
  },
  {
   "cell_type": "code",
   "execution_count": 41,
   "metadata": {
    "scrolled": false
   },
   "outputs": [],
   "source": [
    "train = pd.read_csv(path+'train.csv', sep=',', index_col='id')\n",
    "sample_submission=pd.read_csv(path+'sample_submission.csv', sep=',', index_col='id')\n",
    "test = pd.read_csv(path+'test.csv', sep=',', index_col='id')\n",
    "\n",
    "print('train data')\n",
    "display(train.head())\n",
    "# print('sample sub')\n",
    "# display(sample_submission.head())\n",
    "# print('test data')\n",
    "# display(test.head())\n"
   ]
  },
  {
   "cell_type": "markdown",
   "metadata": {},
   "source": [
    "### На кагле написано ,что это просто датасет для обучения, у данных признаков нет никаких целей и описания, как и у таргета.\n",
    "Над чем можно подумать:\n",
    "1. Распределения признаков\n",
    "2. Корреляции с целевой меткой\n",
    "3. Можно посмотреть на выборсы боксплотом\n",
    "\n",
    "На этом пока что идеи закончились("
   ]
  },
  {
   "cell_type": "markdown",
   "metadata": {},
   "source": [
    "# Визуализация"
   ]
  },
  {
   "cell_type": "markdown",
   "metadata": {},
   "source": [
    "Корреляция между всеми переменными"
   ]
  },
  {
   "cell_type": "code",
   "execution_count": 81,
   "metadata": {},
   "outputs": [],
   "source": [
    "corr = train.corr()\n",
    "trace = go.Heatmap(z=corr.values,\n",
    "                  x=corr.index.values,\n",
    "                  y=corr.columns.values)\n",
    "data = [trace]\n",
    "fig = go.Figure(data = data)\n",
    "fig.show(config = {'staticPlot': True})"
   ]
  },
  {
   "cell_type": "code",
   "execution_count": 40,
   "metadata": {},
   "outputs": [
    {
     "name": "stdout",
     "output_type": "stream",
     "text": [
      "7.940570670373573\n",
      "7.905661328316826\n"
     ]
    }
   ],
   "source": [
    "print(train['target'].median())\n",
    "print(train['target'].mean())"
   ]
  },
  {
   "cell_type": "markdown",
   "metadata": {},
   "source": [
    "Распределение зависимой переменной"
   ]
  },
  {
   "cell_type": "code",
   "execution_count": 82,
   "metadata": {
    "scrolled": false
   },
   "outputs": [],
   "source": [
    "fig = px.histogram(x = train['target'])\n",
    "fig.add_vline(train['target'].median(), line_color=\"orange\", annotation_text=\"median 7.94\")\n",
    "fig.show(config = {'staticPlot': True})"
   ]
  },
  {
   "cell_type": "markdown",
   "metadata": {},
   "source": [
    "Посмотрим на все переменные одновременно"
   ]
  },
  {
   "cell_type": "code",
   "execution_count": 83,
   "metadata": {},
   "outputs": [],
   "source": [
    "fig_full = make_subplots(\n",
    "    rows=7, cols=2,\n",
    "    subplot_titles=('cont1', 'cont8', 'cont2', 'cont9', 'cont3', 'cont10', 'cont4', 'cont11', 'cont5', 'cont12', 'cont6', 'cont13', 'cont7', 'cont14'))\n",
    "\n",
    "n = 1\n",
    "for c in train.iloc[:,:7].columns:\n",
    "    fig_full.add_trace(go.Histogram(x = train[c].values), row = n, col = 1)\n",
    "    n+=1\n",
    "\n",
    "k = 1\n",
    "for p in train.iloc[:,7:14].columns:\n",
    "    fig_full.add_trace(go.Histogram(x = train[p].values), row = k, col = 2)\n",
    "    k+=1\n",
    "    \n",
    "\n",
    "fig_full.update_layout(showlegend=False, height = 2000)\n",
    "fig_full.update_xaxes(matches='x')\n",
    "fig_full.update_yaxes(matches='y')\n",
    "fig_full.show(config = {'staticPlot': True})"
   ]
  },
  {
   "cell_type": "markdown",
   "metadata": {},
   "source": [
    "Некоторые из распределений сильно отличаются от большинства - cont2, cont3, cont5. Они смещают общую для всех графиков шкалу Y, поэтому их придётся отделить, чтобы увидеть распределения с меньшими пиками."
   ]
  },
  {
   "cell_type": "code",
   "execution_count": 46,
   "metadata": {},
   "outputs": [],
   "source": [
    "fig_grid = make_subplots(\n",
    "    rows=11, cols=1,\n",
    "    subplot_titles=(\"cont1\", \"cont4\", 'cont6', 'cont7', 'cont8', 'cont9', 'cont10', 'cont11', 'cont12', 'cont13', 'cont14'))\n",
    "\n",
    "n = 1\n",
    "for c in [train.columns[0], train.columns[3]] + train.columns[5:14].tolist():\n",
    "    fig_grid.add_trace(go.Histogram(x = train[c].values), row = n, col = 1)\n",
    "    n+=1\n",
    "\n",
    "fig_grid.update_layout(showlegend=False, height = 2000)\n",
    "fig_grid.update_xaxes(matches='x')\n",
    "fig_grid.update_yaxes(matches='y')\n",
    "fig_grid.show(config = {'staticPlot': True})"
   ]
  },
  {
   "cell_type": "code",
   "execution_count": 92,
   "metadata": {},
   "outputs": [],
   "source": [
    "train.iloc[:,1]"
   ]
  },
  {
   "cell_type": "markdown",
   "metadata": {},
   "source": [
    "Посмотрим на оставшиеся распределения отдельно"
   ]
  },
  {
   "cell_type": "code",
   "execution_count": 47,
   "metadata": {
    "scrolled": true
   },
   "outputs": [],
   "source": [
    "fig_grid2 = make_subplots(\n",
    "    rows=2, cols=1,\n",
    "    subplot_titles=(\"cont2\", \"cont3\"))\n",
    "\n",
    "fig_grid2.add_trace(go.Histogram(x = train.iloc[:,1]), row = 1, col = 1)\n",
    "fig_grid2.add_trace(go.Histogram(x = train.iloc[:,2]), row = 2, col = 1)\n",
    "\n",
    "fig_grid2.update_layout(showlegend=False)\n",
    "fig_grid2.update_xaxes(matches='x')\n",
    "fig_grid2.update_yaxes(matches='y')\n",
    "fig_grid2.show(config = {'staticPlot': True})"
   ]
  },
  {
   "cell_type": "code",
   "execution_count": 99,
   "metadata": {
    "scrolled": false
   },
   "outputs": [],
   "source": [
    "fig3 = px.histogram(x = train.iloc[:,4])\n",
    "# fig3.show(config = {'staticPlot': True})\n",
    "cont5_img = pio.write_image(fig3, 'cont5.png')\n",
    "Image(cont5)"
   ]
  },
  {
   "cell_type": "markdown",
   "metadata": {},
   "source": [
    "Посмотрим на выбросы"
   ]
  },
  {
   "cell_type": "code",
   "execution_count": 49,
   "metadata": {},
   "outputs": [],
   "source": [
    "fig = px.box(boxmode=\"overlay\")\n",
    "for col in train.iloc[:,:14]:\n",
    "    fig.add_trace(go.Box(y=train[col].values, \n",
    "                         name=train[col].name, \n",
    "                         marker_color='blue',\n",
    "                         marker=dict(\n",
    "                            outliercolor='orange',\n",
    "                            line=dict(\n",
    "                                outliercolor='darkblue',\n",
    "                                outlierwidth=1))\n",
    "                        )\n",
    "                 )\n",
    "\n",
    "fig.update_layout(showlegend=False)\n",
    "fig.show(config = {'staticPlot': True})"
   ]
  }
 ],
 "metadata": {
  "kernelspec": {
   "display_name": "Python 3",
   "language": "python",
   "name": "python3"
  },
  "language_info": {
   "codemirror_mode": {
    "name": "ipython",
    "version": 3
   },
   "file_extension": ".py",
   "mimetype": "text/x-python",
   "name": "python",
   "nbconvert_exporter": "python",
   "pygments_lexer": "ipython3",
   "version": "3.7.0"
  }
 },
 "nbformat": 4,
 "nbformat_minor": 4
}
