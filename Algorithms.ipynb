{
 "cells": [
  {
   "cell_type": "markdown",
   "metadata": {},
   "source": [
    "#### Метод поиска пути бинарного дерева\n",
    "Нужно найти путь, сумма которого равняется weight"
   ]
  },
  {
   "cell_type": "code",
   "execution_count": 1,
   "metadata": {},
   "outputs": [
    {
     "name": "stdout",
     "output_type": "stream",
     "text": [
      "[]\n",
      "[1]\n",
      "[1, 1]\n",
      "None\n",
      "[1, 1000]\n"
     ]
    }
   ],
   "source": [
    "class Node:\n",
    "    def __init__(self, weight, left, right):\n",
    "        self.weight = weight\n",
    "        self.left = left\n",
    "        self.right = right\n",
    "def search(root, weight):\n",
    "    if weight == 0:\n",
    "        return []\n",
    "    if root is None:\n",
    "        return None\n",
    "    left_path = search(root.left, weight - root.weight)\n",
    "    if left_path is not None:\n",
    "        return [root.weight] + left_path\n",
    "    right_path = search(root.right, weight - root.weight)\n",
    "    if right_path is not None:\n",
    "        return [root.weight] + right_path\n",
    "    return None\n",
    "\n",
    "def main():\n",
    "    tree = Node(1, Node(1000, None, None), Node(1, None, None))\n",
    "    print(search(tree, 0))\n",
    "    print(search(tree, 1))\n",
    "    print(search(tree, 2))\n",
    "    print(search(tree, 3))\n",
    "    print(search(tree, 1001))\n",
    "main()"
   ]
  },
  {
   "cell_type": "markdown",
   "metadata": {},
   "source": [
    "#### Задача, написать алгоритм, который в случайном порядке выводит категорию товара в соответствии с их чичсленными пропорциями"
   ]
  },
  {
   "cell_type": "code",
   "execution_count": 4,
   "metadata": {},
   "outputs": [
    {
     "name": "stdout",
     "output_type": "stream",
     "text": [
      "[0.6666666666666666, 0.7999999999999999, 1.0]\n",
      "0.22\n",
      "find\n",
      "auto\n",
      "[0.6666666666666666, 0.7999999999999999, 1.0]\n",
      "0.2866666666666667\n",
      "find\n",
      "auto\n"
     ]
    }
   ],
   "source": [
    "import random\n",
    "d={'auto':100,\n",
    "   'mobile':20,\n",
    "   'keys':30\n",
    "  }\n",
    "### ПЕРВЫЙ СПОСОБ\n",
    "def ret_cat(dict_):\n",
    "    arr_res=[]\n",
    "    for key, val in dict_.items():\n",
    "        \n",
    "        append_arr=[key]*val\n",
    "        arr_res +=append_arr\n",
    "    return arr_res[random.randint(0,len(arr_res)-1)]\n",
    "d_=ret_cat(d)\n",
    "d_\n",
    "\n",
    "def ret_cat(dict_):\n",
    "    total_val = sum(i for i in dict_.values())\n",
    "    proportion_of_total=[]\n",
    "    all_keys=[]\n",
    "    start=0\n",
    "    for key, val in dict_.items():\n",
    "        all_keys.append(key)\n",
    "        start+=val/total_val\n",
    "        proportion_of_total.append(start)\n",
    "    print(proportion_of_total)\n",
    "    rand= random.randint(0,total_val)/total_val\n",
    "    print(rand)\n",
    "    for i in range(len(all_keys)):\n",
    "        if rand<=proportion_of_total[i]:\n",
    "            print('find')\n",
    "            return all_keys[i]\n",
    "d_=ret_cat(d)\n",
    "print(d_)\n",
    "\n",
    "### ВТОРОЙ СПОСОБ (ЛУЧШЕ)\n",
    "def ret_cat(dict_):\n",
    "    total_val = sum(i for i in dict_.values())\n",
    "    proportion_of_total=[]\n",
    "    all_keys=[]\n",
    "    start=0\n",
    "    for key, val in dict_.items():\n",
    "        all_keys.append(key)\n",
    "        start+=val/total_val\n",
    "        proportion_of_total.append(start)\n",
    "    print(proportion_of_total)\n",
    "    rand= random.randint(0,total_val)/total_val\n",
    "    print(rand)\n",
    "    for i in range(len(all_keys)):\n",
    "        if rand<=proportion_of_total[i]:\n",
    "            print('find')\n",
    "            return all_keys[i]\n",
    "d_=ret_cat(d)\n",
    "print(d_)\n"
   ]
  },
  {
   "cell_type": "code",
   "execution_count": null,
   "metadata": {},
   "outputs": [],
   "source": []
  },
  {
   "cell_type": "markdown",
   "metadata": {},
   "source": [
    "#### Задача : написать Замыкание!\n",
    "Замыкание - Ситуация, в которой, внутренняя функция берёт переменную верхнего уровня из внешней функции .\n",
    "\n",
    "Чтобы получичлось замыкание, мы должны возвращать вложенную функцию"
   ]
  },
  {
   "cell_type": "code",
   "execution_count": 14,
   "metadata": {},
   "outputs": [
    {
     "name": "stdout",
     "output_type": "stream",
     "text": [
      "hello my friend Kit\n",
      "hello my friend Lis\n"
     ]
    }
   ],
   "source": [
    "def main_func(value):\n",
    "    name=value\n",
    "    def inner_func():\n",
    "        print(f'hello my friend {name}')\n",
    "    return inner_func\n",
    "\n",
    "a=main_func('Kit')\n",
    "b=main_func('Lis')\n",
    "a()\n",
    "b()"
   ]
  },
  {
   "cell_type": "markdown",
   "metadata": {},
   "source": [
    "#### Задача : написать Декоратор!\n",
    "Декоратор - Функция ,которая принимает на вход функцию и возвращает функцию. Они нужны для добавления нового поведения или нового функционала.\n",
    "\n",
    "\n",
    "Чтобы расширить функционал метода say, за счёт функции decorator , нам нужно уметь использовать декораторы"
   ]
  },
  {
   "cell_type": "code",
   "execution_count": 19,
   "metadata": {},
   "outputs": [
    {
     "name": "stdout",
     "output_type": "stream",
     "text": [
      "<function decorator.<locals>.inner at 0x0000028FD05A7558>\n",
      "start decorator...\n",
      "Hello world\n",
      "finish decorator\n"
     ]
    }
   ],
   "source": [
    "### Функция ,которая принимает на вход функцию\n",
    "def decorator(func):\n",
    "    \n",
    "    def inner():\n",
    "        print('start decorator...')\n",
    "        func()\n",
    "        print('finish decorator')\n",
    "    return inner\n",
    "\n",
    "def say():\n",
    "    print('Hello world')\n",
    "    \n",
    "d=decorator(say)\n",
    "print(d)\n",
    "d()"
   ]
  },
  {
   "cell_type": "markdown",
   "metadata": {},
   "source": [
    "Чтобы добавить новый функционал функции 'say', мы должны обозначить саму функцию say=decorator(say)"
   ]
  },
  {
   "cell_type": "code",
   "execution_count": 20,
   "metadata": {},
   "outputs": [],
   "source": [
    "say=decorator(say)"
   ]
  },
  {
   "cell_type": "code",
   "execution_count": 21,
   "metadata": {},
   "outputs": [
    {
     "name": "stdout",
     "output_type": "stream",
     "text": [
      "<function decorator.<locals>.inner at 0x0000028FD05A7798>\n",
      "start decorator...\n",
      "Hello world\n",
      "finish decorator\n"
     ]
    }
   ],
   "source": [
    "print(say)\n",
    "say()"
   ]
  },
  {
   "cell_type": "code",
   "execution_count": 28,
   "metadata": {},
   "outputs": [
    {
     "name": "stdout",
     "output_type": "stream",
     "text": [
      "<function decorator.<locals>.inner at 0x0000028FD063A798>\n",
      "start decorator...\n",
      "Hello  Kit\n",
      "finish decorator\n",
      "<function decorator.<locals>.inner at 0x0000028FD063AAF8>\n",
      "start decorator...\n",
      "Hello Kit , Lisosvik, 18 y.o\n",
      "finish decorator\n"
     ]
    }
   ],
   "source": [
    "## Чтобы добавить переменные в декоратор, мы должны так же добавить эти переменные в функцию inner:\n",
    "\n",
    "def decorator(func):\n",
    "    def inner(name):\n",
    "        print('start decorator...')\n",
    "        func(name)\n",
    "        print('finish decorator')\n",
    "    return inner\n",
    "\n",
    "def say(name):\n",
    "    print('Hello ',name)\n",
    "    \n",
    "say=decorator(say)\n",
    "print(say)\n",
    "say('Kit')\n",
    "## Лучше всегда пробрассывать эти переменные через *args и **kwargs\n",
    "\n",
    "\n",
    "def decorator(func):\n",
    "    def inner(*args, **kwargs):\n",
    "        print('start decorator...')\n",
    "        func(*args, **kwargs)\n",
    "        print('finish decorator')\n",
    "    return inner\n",
    "\n",
    "def say(name, surname, age):\n",
    "    print(f'Hello {name} , {surname}, {age} y.o')\n",
    "    \n",
    "say=decorator(say)\n",
    "print(say)\n",
    "say('Kit', 'Lisosvik', 18)"
   ]
  },
  {
   "cell_type": "code",
   "execution_count": 31,
   "metadata": {},
   "outputs": [
    {
     "name": "stdout",
     "output_type": "stream",
     "text": [
      "<function decorator.<locals>.inner at 0x0000028FD063ACA8>\n",
      "start decorator...\n",
      "start decorator...\n",
      "Hello Kit , Lisosvik, 18 y.o\n",
      "finish decorator\n",
      "finish decorator\n"
     ]
    }
   ],
   "source": [
    "## Декораторы навешивают с помощью знака '@'!!!\n",
    "### Итоговый резултат:;\n",
    "def decorator(func):\n",
    "    def inner(*args, **kwargs):\n",
    "        print('start decorator...')\n",
    "        func(*args, **kwargs)\n",
    "        print('finish decorator')\n",
    "    return inner\n",
    "\n",
    "@decorator\n",
    "@decorator\n",
    "def say_fin(name, surname, age):\n",
    "    print(f'Hello {name} , {surname}, {age} y.o')\n",
    "    \n",
    "print(say_fin)\n",
    "say_fin('Kit', 'Lisosvik', 18)"
   ]
  },
  {
   "cell_type": "code",
   "execution_count": null,
   "metadata": {},
   "outputs": [],
   "source": []
  }
 ],
 "metadata": {
  "kernelspec": {
   "display_name": "Python 3",
   "language": "python",
   "name": "python3"
  },
  "language_info": {
   "codemirror_mode": {
    "name": "ipython",
    "version": 3
   },
   "file_extension": ".py",
   "mimetype": "text/x-python",
   "name": "python",
   "nbconvert_exporter": "python",
   "pygments_lexer": "ipython3",
   "version": "3.7.9"
  }
 },
 "nbformat": 4,
 "nbformat_minor": 4
}
