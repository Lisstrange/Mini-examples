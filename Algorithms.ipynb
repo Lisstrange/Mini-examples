{
 "cells": [
  {
   "cell_type": "code",
   "execution_count": 1,
   "metadata": {},
   "outputs": [
    {
     "name": "stdout",
     "output_type": "stream",
     "text": [
      "[]\n",
      "[1]\n",
      "[1, 1]\n",
      "None\n",
      "[1, 1000]\n"
     ]
    }
   ],
   "source": [
    "class Node:\n",
    "    def __init__(self, weight, left, right):\n",
    "        self.weight = weight\n",
    "        self.left = left\n",
    "        self.right = right\n",
    "def search(root, weight):\n",
    "    if weight == 0:\n",
    "        return []\n",
    "    if root is None:\n",
    "        return None\n",
    "    left_path = search(root.left, weight - root.weight)\n",
    "    if left_path is not None:\n",
    "        return [root.weight] + left_path\n",
    "    right_path = search(root.right, weight - root.weight)\n",
    "    if right_path is not None:\n",
    "        return [root.weight] + right_path\n",
    "    return None\n",
    "\n",
    "def main():\n",
    "    tree = Node(1, Node(1000, None, None), Node(1, None, None))\n",
    "    print(search(tree, 0))\n",
    "    print(search(tree, 1))\n",
    "    print(search(tree, 2))\n",
    "    print(search(tree, 3))\n",
    "    print(search(tree, 1001))\n",
    "main()"
   ]
  },
  {
   "cell_type": "code",
   "execution_count": null,
   "metadata": {},
   "outputs": [],
   "source": []
  }
 ],
 "metadata": {
  "kernelspec": {
   "display_name": "Python 3",
   "language": "python",
   "name": "python3"
  },
  "language_info": {
   "codemirror_mode": {
    "name": "ipython",
    "version": 3
   },
   "file_extension": ".py",
   "mimetype": "text/x-python",
   "name": "python",
   "nbconvert_exporter": "python",
   "pygments_lexer": "ipython3",
   "version": "3.7.9"
  }
 },
 "nbformat": 4,
 "nbformat_minor": 4
}
