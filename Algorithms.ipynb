{
 "cells": [
  {
   "cell_type": "markdown",
   "metadata": {},
   "source": [
    "#### Метод поиска пути бинарного дерева\n",
    "Нужно найти путь, сумма которого равняется weight"
   ]
  },
  {
   "cell_type": "code",
   "execution_count": 1,
   "metadata": {},
   "outputs": [
    {
     "name": "stdout",
     "output_type": "stream",
     "text": [
      "[]\n",
      "[1]\n",
      "[1, 1]\n",
      "None\n",
      "[1, 1000]\n"
     ]
    }
   ],
   "source": [
    "class Node:\n",
    "    def __init__(self, weight, left, right):\n",
    "        self.weight = weight\n",
    "        self.left = left\n",
    "        self.right = right\n",
    "def search(root, weight):\n",
    "    if weight == 0:\n",
    "        return []\n",
    "    if root is None:\n",
    "        return None\n",
    "    left_path = search(root.left, weight - root.weight)\n",
    "    if left_path is not None:\n",
    "        return [root.weight] + left_path\n",
    "    right_path = search(root.right, weight - root.weight)\n",
    "    if right_path is not None:\n",
    "        return [root.weight] + right_path\n",
    "    return None\n",
    "\n",
    "def main():\n",
    "    tree = Node(1, Node(1000, None, None), Node(1, None, None))\n",
    "    print(search(tree, 0))\n",
    "    print(search(tree, 1))\n",
    "    print(search(tree, 2))\n",
    "    print(search(tree, 3))\n",
    "    print(search(tree, 1001))\n",
    "main()"
   ]
  },
  {
   "cell_type": "code",
   "execution_count": 4,
   "metadata": {},
   "outputs": [
    {
     "name": "stdout",
     "output_type": "stream",
     "text": [
      "[0.6666666666666666, 0.7999999999999999, 1.0]\n",
      "0.22\n",
      "find\n",
      "auto\n",
      "[0.6666666666666666, 0.7999999999999999, 1.0]\n",
      "0.2866666666666667\n",
      "find\n",
      "auto\n"
     ]
    }
   ],
   "source": [
    "import random\n",
    "d={'auto':100,\n",
    "   'mobile':20,\n",
    "   'keys':30\n",
    "  }\n",
    "def ret_cat(dict_):\n",
    "    arr_res=[]\n",
    "    for key, val in dict_.items():\n",
    "        \n",
    "        append_arr=[key]*val\n",
    "        arr_res +=append_arr\n",
    "    return arr_res[random.randint(0,len(arr_res)-1)]\n",
    "d_=ret_cat(d)\n",
    "d_\n",
    "\n",
    "def ret_cat(dict_):\n",
    "    total_val = sum(i for i in dict_.values())\n",
    "    proportion_of_total=[]\n",
    "    all_keys=[]\n",
    "    start=0\n",
    "    for key, val in dict_.items():\n",
    "        all_keys.append(key)\n",
    "        start+=val/total_val\n",
    "        proportion_of_total.append(start)\n",
    "    print(proportion_of_total)\n",
    "    rand= random.randint(0,total_val)/total_val\n",
    "    print(rand)\n",
    "    for i in range(len(all_keys)):\n",
    "        if rand<=proportion_of_total[i]:\n",
    "            print('find')\n",
    "            return all_keys[i]\n",
    "d_=ret_cat(d)\n",
    "print(d_)\n",
    "\n",
    "\n",
    "def ret_cat(dict_):\n",
    "    total_val = sum(i for i in dict_.values())\n",
    "    proportion_of_total=[]\n",
    "    all_keys=[]\n",
    "    start=0\n",
    "    for key, val in dict_.items():\n",
    "        all_keys.append(key)\n",
    "        start+=val/total_val\n",
    "        proportion_of_total.append(start)\n",
    "    print(proportion_of_total)\n",
    "    rand= random.randint(0,total_val)/total_val\n",
    "    print(rand)\n",
    "    for i in range(len(all_keys)):\n",
    "        if rand<=proportion_of_total[i]:\n",
    "            print('find')\n",
    "            return all_keys[i]\n",
    "d_=ret_cat(d)\n",
    "print(d_)\n"
   ]
  },
  {
   "cell_type": "code",
   "execution_count": null,
   "metadata": {},
   "outputs": [],
   "source": []
  }
 ],
 "metadata": {
  "kernelspec": {
   "display_name": "Python 3",
   "language": "python",
   "name": "python3"
  },
  "language_info": {
   "codemirror_mode": {
    "name": "ipython",
    "version": 3
   },
   "file_extension": ".py",
   "mimetype": "text/x-python",
   "name": "python",
   "nbconvert_exporter": "python",
   "pygments_lexer": "ipython3",
   "version": "3.7.9"
  }
 },
 "nbformat": 4,
 "nbformat_minor": 4
}
