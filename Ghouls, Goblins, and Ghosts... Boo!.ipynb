{
 "cells": [
  {
   "cell_type": "code",
   "execution_count": 1,
   "metadata": {
    "scrolled": false
   },
   "outputs": [
    {
     "name": "stdout",
     "output_type": "stream",
     "text": [
      "Requirement already satisfied: kaggle in c:\\users\\nikli\\anaconda3\\envs\\tf\\lib\\site-packages (1.5.10)\n",
      "Requirement already satisfied: six>=1.10 in c:\\users\\nikli\\anaconda3\\envs\\tf\\lib\\site-packages (from kaggle) (1.15.0)\n",
      "Requirement already satisfied: certifi in c:\\users\\nikli\\anaconda3\\envs\\tf\\lib\\site-packages (from kaggle) (2020.12.5)\n",
      "Requirement already satisfied: python-dateutil in c:\\users\\nikli\\anaconda3\\envs\\tf\\lib\\site-packages (from kaggle) (2.8.1)\n",
      "Requirement already satisfied: requests in c:\\users\\nikli\\anaconda3\\envs\\tf\\lib\\site-packages (from kaggle) (2.25.1)\n",
      "Requirement already satisfied: urllib3 in c:\\users\\nikli\\anaconda3\\envs\\tf\\lib\\site-packages (from kaggle) (1.26.3)\n",
      "Requirement already satisfied: python-slugify in c:\\users\\nikli\\anaconda3\\envs\\tf\\lib\\site-packages (from kaggle) (4.0.1)\n",
      "Requirement already satisfied: tqdm in c:\\users\\nikli\\anaconda3\\envs\\tf\\lib\\site-packages (from kaggle) (4.54.1)\n",
      "Requirement already satisfied: text-unidecode>=1.3 in c:\\users\\nikli\\anaconda3\\envs\\tf\\lib\\site-packages (from python-slugify->kaggle) (1.3)\n",
      "Requirement already satisfied: idna<3,>=2.5 in c:\\users\\nikli\\anaconda3\\envs\\tf\\lib\\site-packages (from requests->kaggle) (2.10)\n",
      "Requirement already satisfied: chardet<5,>=3.0.2 in c:\\users\\nikli\\anaconda3\\envs\\tf\\lib\\site-packages (from requests->kaggle) (4.0.0)\n"
     ]
    }
   ],
   "source": [
    "# https://www.kaggle.com/docs/api Можно по этой доке загружать датасеты, нужно создать ключ и перенести его в нужную деррикторию\n",
    "# Есть видео с гайд\n",
    "!pip install kaggle"
   ]
  },
  {
   "cell_type": "code",
   "execution_count": 46,
   "metadata": {},
   "outputs": [],
   "source": [
    "from kaggle.api.kaggle_api_extended import KaggleApi\n",
    "\n",
    "\n",
    "from zipfile import ZipFile\n",
    "import pandas as pd"
   ]
  },
  {
   "cell_type": "code",
   "execution_count": 8,
   "metadata": {},
   "outputs": [
    {
     "name": "stdout",
     "output_type": "stream",
     "text": [
      "Downloading ghouls-goblins-and-ghosts-boo.zip to C:\\Users\\nikli\\Documents\\git_reps\\Mini-examples"
     ]
    },
    {
     "name": "stderr",
     "output_type": "stream",
     "text": [
      "\n",
      "  0%|          | 0.00/38.0k [00:00<?, ?B/s]\n",
      "100%|##########| 38.0k/38.0k [00:00<00:00, 5.57MB/s]\n"
     ]
    },
    {
     "name": "stdout",
     "output_type": "stream",
     "text": [
      "\n",
      "\n"
     ]
    }
   ],
   "source": [
    "!kaggle competitions download -c ghouls-goblins-and-ghosts-boo"
   ]
  },
  {
   "cell_type": "code",
   "execution_count": 49,
   "metadata": {
    "scrolled": true
   },
   "outputs": [
    {
     "name": "stdout",
     "output_type": "stream",
     "text": [
      "Выводим все файлы , которые есть в zip архиве... \n",
      "['sample_submission.csv.zip', 'test.csv.zip', 'train.csv.zip']\n"
     ]
    },
    {
     "data": {
      "text/html": [
       "<div>\n",
       "<style scoped>\n",
       "    .dataframe tbody tr th:only-of-type {\n",
       "        vertical-align: middle;\n",
       "    }\n",
       "\n",
       "    .dataframe tbody tr th {\n",
       "        vertical-align: top;\n",
       "    }\n",
       "\n",
       "    .dataframe thead th {\n",
       "        text-align: right;\n",
       "    }\n",
       "</style>\n",
       "<table border=\"1\" class=\"dataframe\">\n",
       "  <thead>\n",
       "    <tr style=\"text-align: right;\">\n",
       "      <th></th>\n",
       "      <th>id</th>\n",
       "      <th>bone_length</th>\n",
       "      <th>rotting_flesh</th>\n",
       "      <th>hair_length</th>\n",
       "      <th>has_soul</th>\n",
       "      <th>color</th>\n",
       "      <th>type</th>\n",
       "    </tr>\n",
       "  </thead>\n",
       "  <tbody>\n",
       "    <tr>\n",
       "      <th>0</th>\n",
       "      <td>0</td>\n",
       "      <td>0.354512</td>\n",
       "      <td>0.350839</td>\n",
       "      <td>0.465761</td>\n",
       "      <td>0.781142</td>\n",
       "      <td>clear</td>\n",
       "      <td>Ghoul</td>\n",
       "    </tr>\n",
       "    <tr>\n",
       "      <th>1</th>\n",
       "      <td>1</td>\n",
       "      <td>0.575560</td>\n",
       "      <td>0.425868</td>\n",
       "      <td>0.531401</td>\n",
       "      <td>0.439899</td>\n",
       "      <td>green</td>\n",
       "      <td>Goblin</td>\n",
       "    </tr>\n",
       "    <tr>\n",
       "      <th>2</th>\n",
       "      <td>2</td>\n",
       "      <td>0.467875</td>\n",
       "      <td>0.354330</td>\n",
       "      <td>0.811616</td>\n",
       "      <td>0.791225</td>\n",
       "      <td>black</td>\n",
       "      <td>Ghoul</td>\n",
       "    </tr>\n",
       "    <tr>\n",
       "      <th>3</th>\n",
       "      <td>4</td>\n",
       "      <td>0.776652</td>\n",
       "      <td>0.508723</td>\n",
       "      <td>0.636766</td>\n",
       "      <td>0.884464</td>\n",
       "      <td>black</td>\n",
       "      <td>Ghoul</td>\n",
       "    </tr>\n",
       "    <tr>\n",
       "      <th>4</th>\n",
       "      <td>5</td>\n",
       "      <td>0.566117</td>\n",
       "      <td>0.875862</td>\n",
       "      <td>0.418594</td>\n",
       "      <td>0.636438</td>\n",
       "      <td>green</td>\n",
       "      <td>Ghost</td>\n",
       "    </tr>\n",
       "    <tr>\n",
       "      <th>...</th>\n",
       "      <td>...</td>\n",
       "      <td>...</td>\n",
       "      <td>...</td>\n",
       "      <td>...</td>\n",
       "      <td>...</td>\n",
       "      <td>...</td>\n",
       "      <td>...</td>\n",
       "    </tr>\n",
       "    <tr>\n",
       "      <th>366</th>\n",
       "      <td>886</td>\n",
       "      <td>0.458132</td>\n",
       "      <td>0.391760</td>\n",
       "      <td>0.660590</td>\n",
       "      <td>0.635689</td>\n",
       "      <td>blue</td>\n",
       "      <td>Goblin</td>\n",
       "    </tr>\n",
       "    <tr>\n",
       "      <th>367</th>\n",
       "      <td>889</td>\n",
       "      <td>0.331936</td>\n",
       "      <td>0.564836</td>\n",
       "      <td>0.539216</td>\n",
       "      <td>0.551471</td>\n",
       "      <td>green</td>\n",
       "      <td>Ghost</td>\n",
       "    </tr>\n",
       "    <tr>\n",
       "      <th>368</th>\n",
       "      <td>890</td>\n",
       "      <td>0.481640</td>\n",
       "      <td>0.501147</td>\n",
       "      <td>0.496446</td>\n",
       "      <td>0.544003</td>\n",
       "      <td>clear</td>\n",
       "      <td>Ghoul</td>\n",
       "    </tr>\n",
       "    <tr>\n",
       "      <th>369</th>\n",
       "      <td>896</td>\n",
       "      <td>0.294943</td>\n",
       "      <td>0.771286</td>\n",
       "      <td>0.583503</td>\n",
       "      <td>0.300618</td>\n",
       "      <td>clear</td>\n",
       "      <td>Ghost</td>\n",
       "    </tr>\n",
       "    <tr>\n",
       "      <th>370</th>\n",
       "      <td>897</td>\n",
       "      <td>0.670200</td>\n",
       "      <td>0.768469</td>\n",
       "      <td>0.737274</td>\n",
       "      <td>0.608384</td>\n",
       "      <td>white</td>\n",
       "      <td>Ghoul</td>\n",
       "    </tr>\n",
       "  </tbody>\n",
       "</table>\n",
       "<p>371 rows × 7 columns</p>\n",
       "</div>"
      ],
      "text/plain": [
       "      id  bone_length  rotting_flesh  hair_length  has_soul  color    type\n",
       "0      0     0.354512       0.350839     0.465761  0.781142  clear   Ghoul\n",
       "1      1     0.575560       0.425868     0.531401  0.439899  green  Goblin\n",
       "2      2     0.467875       0.354330     0.811616  0.791225  black   Ghoul\n",
       "3      4     0.776652       0.508723     0.636766  0.884464  black   Ghoul\n",
       "4      5     0.566117       0.875862     0.418594  0.636438  green   Ghost\n",
       "..   ...          ...            ...          ...       ...    ...     ...\n",
       "366  886     0.458132       0.391760     0.660590  0.635689   blue  Goblin\n",
       "367  889     0.331936       0.564836     0.539216  0.551471  green   Ghost\n",
       "368  890     0.481640       0.501147     0.496446  0.544003  clear   Ghoul\n",
       "369  896     0.294943       0.771286     0.583503  0.300618  clear   Ghost\n",
       "370  897     0.670200       0.768469     0.737274  0.608384  white   Ghoul\n",
       "\n",
       "[371 rows x 7 columns]"
      ]
     },
     "execution_count": 49,
     "metadata": {},
     "output_type": "execute_result"
    }
   ],
   "source": [
    "zip_file = ZipFile('ghouls-goblins-and-ghosts-boo.zip')\n",
    "print('Выводим все файлы , которые есть в zip архиве... ')\n",
    "print([i.filename for i in zip_file.infolist()])\n",
    "pd.read_csv(zip_file.open('train.csv.zip'), compression='zip')"
   ]
  },
  {
   "cell_type": "markdown",
   "metadata": {},
   "source": [
    "#### https://www.kaggle.com/mrtgocer/from-zero-to-hero-lightgbm-classifier\n",
    "Вот эта интересная визуализация, но тебе стоит посмотреть ещё ноутбуки, мне казалось, там было что-то крутое, но я пока что не нашёл"
   ]
  },
  {
   "cell_type": "code",
   "execution_count": null,
   "metadata": {},
   "outputs": [],
   "source": []
  }
 ],
 "metadata": {
  "kernelspec": {
   "display_name": "Python 3",
   "language": "python",
   "name": "python3"
  },
  "language_info": {
   "codemirror_mode": {
    "name": "ipython",
    "version": 3
   },
   "file_extension": ".py",
   "mimetype": "text/x-python",
   "name": "python",
   "nbconvert_exporter": "python",
   "pygments_lexer": "ipython3",
   "version": "3.7.9"
  }
 },
 "nbformat": 4,
 "nbformat_minor": 4
}
